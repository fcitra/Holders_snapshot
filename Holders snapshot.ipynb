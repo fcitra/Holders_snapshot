{
 "cells": [
  {
   "cell_type": "code",
   "execution_count": 1,
   "metadata": {},
   "outputs": [],
   "source": [
    "timestamp = \"2023-03-21 22:00\" # Enter timestamp in UTC in this format\n",
    "api_key = \"xxxxxxx-yyyy-zzzz-aaaa-bbbbbbbbbbbb\" # Enter your API key\n",
    "collection_contract = \"0xFeffc0E5C9575576C1922978102afa2D803Dc93F\" # Enter collection contract"
   ]
  },
  {
   "cell_type": "code",
   "execution_count": 2,
   "metadata": {},
   "outputs": [],
   "source": [
    "# format for api_key\n",
    "# api_key = \"xxxxxxxx-yyyy-zzzz-aaaa-bbbbbbbbbbbb\""
   ]
  },
  {
   "cell_type": "code",
   "execution_count": null,
   "metadata": {},
   "outputs": [],
   "source": [
    "pip install shroomdk"
   ]
  },
  {
   "cell_type": "code",
   "execution_count": 3,
   "metadata": {},
   "outputs": [],
   "source": [
    "from shroomdk import ShroomDK\n",
    "# Initialize `ShroomDK` with your API Key\n",
    "sdk = ShroomDK(api_key)\n",
    "collection_contract = collection_contract.lower()\n",
    "\n",
    "# First query is to get a block number for snapshot that corresponds to snapshot time\n",
    "sql_blocknumber = f\"\"\"\n",
    "    SELECT\n",
    "        block_timestamp, \n",
    "        block_number\n",
    "    FROM ethereum.core.ez_nft_transfers\n",
    "    WHERE date_trunc('minute', block_timestamp) = '{timestamp}'\n",
    "    ORDER BY block_timestamp DESC\n",
    "    LIMIT 1\n",
    "\"\"\"\n",
    "\n",
    "query_result_timestamp = sdk.query(sql_blocknumber)\n",
    "\n",
    "for record in query_result_timestamp.records:\n",
    "    snapshot = record['block_number']"
   ]
  },
  {
   "cell_type": "code",
   "execution_count": 4,
   "metadata": {},
   "outputs": [],
   "source": [
    "# Parameters can be passed into SQL statements \n",
    "# via native string interpolation\n",
    "# Second query is to obtain token wallet balances during a particular block \n",
    "\n",
    "sql = f\"\"\"\n",
    "    WITH wallets as(\n",
    "    SELECT \n",
    "        nft_to_address as wallet, \n",
    "        max(block_number) as last_transfer \n",
    "    FROM ethereum.core.ez_nft_transfers \n",
    "    WHERE nft_address = LOWER('{collection_contract}')\n",
    "    GROUP BY wallet\n",
    "    ),\n",
    "\n",
    "    first_data as(\n",
    "    SELECT\n",
    "        nft_to_address as owner,\n",
    "        tokenid\n",
    "    FROM ethereum.core.ez_nft_transfers\n",
    "    WHERE nft_address = LOWER('{collection_contract}')\n",
    "    AND block_number <= '{snapshot}'\n",
    "    QUALIFY RANK() OVER (\n",
    "        PARTITION BY tokenid \n",
    "        ORDER BY block_number DESC, event_index DESC) = 1        \n",
    "    )\n",
    "    SELECT *\n",
    "    FROM first_data\n",
    "    ORDER BY owner\n",
    "    \n",
    "\"\"\"\n",
    "\n",
    "# Run the query against Flipside's query engine \n",
    "# and await the results\n",
    "query_result_set = sdk.query(sql)"
   ]
  },
  {
   "cell_type": "code",
   "execution_count": 5,
   "metadata": {},
   "outputs": [],
   "source": [
    "import pandas as pd\n",
    "\n",
    "# create empty data frame container\n",
    "data = []\n",
    "\n",
    "# convert sql run result into pandas dataframe\n",
    "for record in query_result_set.records:\n",
    "    owner = record['owner']\n",
    "    tokenid = record['tokenid']\n",
    "    data.append({'owner': owner, 'token_id': tokenid})\n",
    "df = pd.DataFrame(data)\n",
    "\n",
    "# convert token id data type from object/string to integer\n",
    "df['token_id'] = df['token_id'].astype(int)"
   ]
  },
  {
   "cell_type": "code",
   "execution_count": 6,
   "metadata": {},
   "outputs": [],
   "source": [
    "# group token quantity based on holder wallet\n",
    "grouped_df = df.groupby(['owner']).size()"
   ]
  },
  {
   "cell_type": "code",
   "execution_count": 7,
   "metadata": {},
   "outputs": [],
   "source": [
    "# create file csv file name\n",
    "csv_name = 'owners_snapshot_block_' + str(snapshot) + '_collection_' + str(collection_contract) + '.csv'\n",
    "\n",
    "# export dataframe to csv file \n",
    "\n",
    "grouped_df.to_csv(csv_name, index = True)"
   ]
  }
 ],
 "metadata": {
  "kernelspec": {
   "display_name": "Python 3.8.5 ('base')",
   "language": "python",
   "name": "python3"
  },
  "language_info": {
   "codemirror_mode": {
    "name": "ipython",
    "version": 3
   },
   "file_extension": ".py",
   "mimetype": "text/x-python",
   "name": "python",
   "nbconvert_exporter": "python",
   "pygments_lexer": "ipython3",
   "version": "3.8.5"
  },
  "orig_nbformat": 4,
  "vscode": {
   "interpreter": {
    "hash": "f19328809354835b6efb0b42dccd0f6561f99cdc90888a50a9b48e8c75d8c9e1"
   }
  }
 },
 "nbformat": 4,
 "nbformat_minor": 2
}
